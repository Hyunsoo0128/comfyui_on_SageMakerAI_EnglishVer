{
 "cells": [
  {
   "cell_type": "markdown",
   "id": "411b9ea0-fe62-45a2-99a6-df9ba31aa706",
   "metadata": {},
   "source": [
    "### ComfyUI Server Startup and Access ###\n",
    "This cell is responsible for running the previously installed and prepared ComfyUI as a web server. Once the server is running, you can access ComfyUI's node-based interface through a web browser to start image generation.\n",
    "\n",
    "1. Code Explanation\n",
    "args = \"--preview-method auto --enable-cors-header --use-pytorch-cross-attention\"\n",
    "\n",
    "This section sets additional options to apply when starting the ComfyUI server.\n",
    "\n",
    "--preview-method auto: Automatically sets the method for showing intermediate processes during image generation.\n",
    "\n",
    "--enable-cors-header: An important option that allows smooth communication between the web interface (frontend) and server (backend) in cloud environments like SageMaker.\n",
    "\n",
    "--use-pytorch-cross-attention: An option that improves performance by using PyTorch's optimized computation methods.\n",
    "\n",
    "launch_comfy(args)\n",
    "\n",
    "A function that starts the server by running the ComfyUI/main.py script with the args options set above.\n",
    "\n",
    "2. How to Access from SageMaker Studio\n",
    "When you run the cell, a local address like http://127.0.0.1:8188 will appear in the output window. However, you cannot directly access the SageMaker environment with this address. Instead, you need to change the access address using the method below.\n",
    "\n",
    "Check Current JupyterLab Address\n",
    "First, check the address bar of the web browser you are currently using. It should look similar to the following:\n",
    "\n",
    "https://<studio-id>.studio.<region>.sagemaker.aws/jupyter/default/lab\n",
    "\n",
    "Extract Base URL\n",
    "Copy the front part of the above address excluding the /lab part.\n",
    "\n",
    "https://<studio-id>.studio.<region>.sagemaker.aws/jupyter/default\n",
    "\n",
    "Add Proxy Path and Port Number\n",
    "Add /proxy/<port-number>/ after the copied base URL. ComfyUI's default port is 8188.\n",
    "\n",
    "/proxy/8188/\n",
    "\n",
    "Final Access URL Example\n",
    "If my JupyterLab address is:\n",
    "https://d-abcdef12345.studio.us-east-1.sagemaker.aws/jupyter/default/lab\n",
    "\n",
    "The address to access ComfyUI would be:\n",
    "https://d-abcdef12345.studio.us-east-1.sagemaker.aws/jupyter/default/proxy/8188/\n",
    "\n",
    "You can access the ComfyUI interface by entering this final URL in a new browser tab."
   ]
  },
  {
   "cell_type": "code",
   "execution_count": null,
   "id": "6f263bfd-ed76-47e3-9c9f-eb17eb37469a",
   "metadata": {
    "execution": {
     "iopub.execute_input": "2025-07-25T06:32:57.764251Z",
     "iopub.status.busy": "2025-07-25T06:32:57.764105Z"
    }
   },
   "outputs": [],
   "source": [
    "!pip install rembg\n",
    "!sudo apt-get update && sudo apt-get install -y libgl1-mesa-glx\n",
    "# Put ComfyUI command line args here\n",
    "args = \"--preview-method auto --enable-cors-header --use-pytorch-cross-attention\"\n",
    "\n",
    "from threading import Timer\n",
    "from queue import Queue\n",
    "import os\n",
    "    \n",
    "def launch_comfy(args):\n",
    "    print(f'Wait for local URL to appear')\n",
    "    os.system(\"python ./ComfyUI/main.py \" + args)\n",
    "    \n",
    "launch_comfy(args)"
   ]
  },
  {
   "cell_type": "code",
   "execution_count": null,
   "id": "013f2cd4-fd2f-4721-81d0-082b3839370f",
   "metadata": {},
   "outputs": [],
   "source": []
  }
 ],
 "metadata": {
  "kernelspec": {
   "display_name": "Python 3 (ipykernel)",
   "language": "python",
   "name": "python3"
  },
  "language_info": {
   "codemirror_mode": {
    "name": "ipython",
    "version": 3
   },
   "file_extension": ".py",
   "mimetype": "text/x-python",
   "name": "python",
   "nbconvert_exporter": "python",
   "pygments_lexer": "ipython3",
   "version": "3.12.9"
  }
 },
 "nbformat": 4,
 "nbformat_minor": 5
}
